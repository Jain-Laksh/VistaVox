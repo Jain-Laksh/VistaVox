{
 "cells": [
  {
   "cell_type": "code",
   "execution_count": 12,
   "id": "b4444f7f",
   "metadata": {},
   "outputs": [],
   "source": [
    "import pandas as pd\n",
    "import numpy as np\n",
    "import nltk\n",
    "from nltk.translate.meteor_score import meteor_score\n",
    "from nltk.tokenize import word_tokenize\n",
    "from tqdm import tqdm"
   ]
  },
  {
   "cell_type": "code",
   "execution_count": 10,
   "id": "1c7f8505",
   "metadata": {},
   "outputs": [
    {
     "name": "stderr",
     "output_type": "stream",
     "text": [
      "[nltk_data] Downloading package punkt_tab to\n",
      "[nltk_data]     /home/laksh.jain/nltk_data...\n",
      "[nltk_data]   Unzipping tokenizers/punkt_tab.zip.\n",
      "[nltk_data] Downloading package wordnet to\n",
      "[nltk_data]     /home/laksh.jain/nltk_data...\n",
      "[nltk_data]   Package wordnet is already up-to-date!\n"
     ]
    },
    {
     "data": {
      "text/plain": [
       "True"
      ]
     },
     "execution_count": 10,
     "metadata": {},
     "output_type": "execute_result"
    }
   ],
   "source": [
    "nltk.download('punkt_tab')\n",
    "nltk.download('wordnet')"
   ]
  },
  {
   "cell_type": "code",
   "execution_count": 3,
   "id": "04506e79",
   "metadata": {},
   "outputs": [],
   "source": [
    "base_df = pd.read_csv(\"base_model_response.csv\")\n",
    "tuned_df = pd.read_csv(\"tuned_model_response.csv\")"
   ]
  },
  {
   "cell_type": "code",
   "execution_count": 4,
   "id": "38673507",
   "metadata": {},
   "outputs": [
    {
     "data": {
      "text/html": [
       "<div>\n",
       "<style scoped>\n",
       "    .dataframe tbody tr th:only-of-type {\n",
       "        vertical-align: middle;\n",
       "    }\n",
       "\n",
       "    .dataframe tbody tr th {\n",
       "        vertical-align: top;\n",
       "    }\n",
       "\n",
       "    .dataframe thead th {\n",
       "        text-align: right;\n",
       "    }\n",
       "</style>\n",
       "<table border=\"1\" class=\"dataframe\">\n",
       "  <thead>\n",
       "    <tr style=\"text-align: right;\">\n",
       "      <th></th>\n",
       "      <th>image</th>\n",
       "      <th>description</th>\n",
       "      <th>model_output</th>\n",
       "    </tr>\n",
       "  </thead>\n",
       "  <tbody>\n",
       "    <tr>\n",
       "      <th>0</th>\n",
       "      <td>&lt;PIL.JpegImagePlugin.JpegImageFile image mode=...</td>\n",
       "      <td>A beautiful woman holding a tennis racquet sta...</td>\n",
       "      <td>A blind person is guiding a blind person thro...</td>\n",
       "    </tr>\n",
       "    <tr>\n",
       "      <th>1</th>\n",
       "      <td>&lt;PIL.JpegImagePlugin.JpegImageFile image mode=...</td>\n",
       "      <td>A snowboarder stands in an ice-covered area, h...</td>\n",
       "      <td>In a picturesque winter landscape, a blind pe...</td>\n",
       "    </tr>\n",
       "    <tr>\n",
       "      <th>2</th>\n",
       "      <td>&lt;PIL.JpegImagePlugin.JpegImageFile image mode=...</td>\n",
       "      <td>A left hand holds an iced donut in a bag, its ...</td>\n",
       "      <td>A person is holding a glazed donut in their h...</td>\n",
       "    </tr>\n",
       "    <tr>\n",
       "      <th>3</th>\n",
       "      <td>&lt;PIL.JpegImagePlugin.JpegImageFile image mode=...</td>\n",
       "      <td>A baby is eating in a room of the house. She t...</td>\n",
       "      <td>The boy is sitting in a crib, his head tilted...</td>\n",
       "    </tr>\n",
       "    <tr>\n",
       "      <th>4</th>\n",
       "      <td>&lt;PIL.JpegImagePlugin.JpegImageFile image mode=...</td>\n",
       "      <td>A group of older men enjoy a meal at a wooden ...</td>\n",
       "      <td>In this image, we see a group of people sitti...</td>\n",
       "    </tr>\n",
       "    <tr>\n",
       "      <th>...</th>\n",
       "      <td>...</td>\n",
       "      <td>...</td>\n",
       "      <td>...</td>\n",
       "    </tr>\n",
       "    <tr>\n",
       "      <th>145</th>\n",
       "      <td>&lt;PIL.JpegImagePlugin.JpegImageFile image mode=...</td>\n",
       "      <td>She holds a camera near a large sink and count...</td>\n",
       "      <td>In a kitchen, a man is taking a picture of th...</td>\n",
       "    </tr>\n",
       "    <tr>\n",
       "      <th>146</th>\n",
       "      <td>&lt;PIL.JpegImagePlugin.JpegImageFile image mode=...</td>\n",
       "      <td>A group of people travel down a street on moto...</td>\n",
       "      <td>In the bustling street of a bustling city, a ...</td>\n",
       "    </tr>\n",
       "    <tr>\n",
       "      <th>147</th>\n",
       "      <td>&lt;PIL.JpegImagePlugin.JpegImageFile image mode=...</td>\n",
       "      <td>An umbrella sits on top of a sandy beach near ...</td>\n",
       "      <td>The image depicts a serene beach scene, chara...</td>\n",
       "    </tr>\n",
       "    <tr>\n",
       "      <th>148</th>\n",
       "      <td>&lt;PIL.JpegImagePlugin.JpegImageFile image mode=...</td>\n",
       "      <td>A food worker in a blue apron holds a cell pho...</td>\n",
       "      <td>A blind person is using a bright light to see...</td>\n",
       "    </tr>\n",
       "    <tr>\n",
       "      <th>149</th>\n",
       "      <td>&lt;PIL.JpegImagePlugin.JpegImageFile image mode=...</td>\n",
       "      <td>The children sit in the living room, a boy and...</td>\n",
       "      <td>In a cozy, vibrant living space, two individu...</td>\n",
       "    </tr>\n",
       "  </tbody>\n",
       "</table>\n",
       "<p>150 rows × 3 columns</p>\n",
       "</div>"
      ],
      "text/plain": [
       "                                                 image  \\\n",
       "0    <PIL.JpegImagePlugin.JpegImageFile image mode=...   \n",
       "1    <PIL.JpegImagePlugin.JpegImageFile image mode=...   \n",
       "2    <PIL.JpegImagePlugin.JpegImageFile image mode=...   \n",
       "3    <PIL.JpegImagePlugin.JpegImageFile image mode=...   \n",
       "4    <PIL.JpegImagePlugin.JpegImageFile image mode=...   \n",
       "..                                                 ...   \n",
       "145  <PIL.JpegImagePlugin.JpegImageFile image mode=...   \n",
       "146  <PIL.JpegImagePlugin.JpegImageFile image mode=...   \n",
       "147  <PIL.JpegImagePlugin.JpegImageFile image mode=...   \n",
       "148  <PIL.JpegImagePlugin.JpegImageFile image mode=...   \n",
       "149  <PIL.JpegImagePlugin.JpegImageFile image mode=...   \n",
       "\n",
       "                                           description  \\\n",
       "0    A beautiful woman holding a tennis racquet sta...   \n",
       "1    A snowboarder stands in an ice-covered area, h...   \n",
       "2    A left hand holds an iced donut in a bag, its ...   \n",
       "3    A baby is eating in a room of the house. She t...   \n",
       "4    A group of older men enjoy a meal at a wooden ...   \n",
       "..                                                 ...   \n",
       "145  She holds a camera near a large sink and count...   \n",
       "146  A group of people travel down a street on moto...   \n",
       "147  An umbrella sits on top of a sandy beach near ...   \n",
       "148  A food worker in a blue apron holds a cell pho...   \n",
       "149  The children sit in the living room, a boy and...   \n",
       "\n",
       "                                          model_output  \n",
       "0     A blind person is guiding a blind person thro...  \n",
       "1     In a picturesque winter landscape, a blind pe...  \n",
       "2     A person is holding a glazed donut in their h...  \n",
       "3     The boy is sitting in a crib, his head tilted...  \n",
       "4     In this image, we see a group of people sitti...  \n",
       "..                                                 ...  \n",
       "145   In a kitchen, a man is taking a picture of th...  \n",
       "146   In the bustling street of a bustling city, a ...  \n",
       "147   The image depicts a serene beach scene, chara...  \n",
       "148   A blind person is using a bright light to see...  \n",
       "149   In a cozy, vibrant living space, two individu...  \n",
       "\n",
       "[150 rows x 3 columns]"
      ]
     },
     "execution_count": 4,
     "metadata": {},
     "output_type": "execute_result"
    }
   ],
   "source": [
    "base_df"
   ]
  },
  {
   "cell_type": "code",
   "execution_count": 17,
   "id": "e47af792",
   "metadata": {},
   "outputs": [
    {
     "data": {
      "text/html": [
       "<div>\n",
       "<style scoped>\n",
       "    .dataframe tbody tr th:only-of-type {\n",
       "        vertical-align: middle;\n",
       "    }\n",
       "\n",
       "    .dataframe tbody tr th {\n",
       "        vertical-align: top;\n",
       "    }\n",
       "\n",
       "    .dataframe thead th {\n",
       "        text-align: right;\n",
       "    }\n",
       "</style>\n",
       "<table border=\"1\" class=\"dataframe\">\n",
       "  <thead>\n",
       "    <tr style=\"text-align: right;\">\n",
       "      <th></th>\n",
       "      <th>image</th>\n",
       "      <th>description</th>\n",
       "      <th>model_output</th>\n",
       "    </tr>\n",
       "  </thead>\n",
       "  <tbody>\n",
       "    <tr>\n",
       "      <th>0</th>\n",
       "      <td>&lt;PIL.JpegImagePlugin.JpegImageFile image mode=...</td>\n",
       "      <td>A beautiful woman holding a tennis racquet sta...</td>\n",
       "      <td>A woman is playing tennis on a court. She is ...</td>\n",
       "    </tr>\n",
       "    <tr>\n",
       "      <th>1</th>\n",
       "      <td>&lt;PIL.JpegImagePlugin.JpegImageFile image mode=...</td>\n",
       "      <td>A snowboarder stands in an ice-covered area, h...</td>\n",
       "      <td>A person is standing on a snowy hill, wearing...</td>\n",
       "    </tr>\n",
       "    <tr>\n",
       "      <th>2</th>\n",
       "      <td>&lt;PIL.JpegImagePlugin.JpegImageFile image mode=...</td>\n",
       "      <td>A left hand holds an iced donut in a bag, its ...</td>\n",
       "      <td>A person is holding a chocolate éclair in the...</td>\n",
       "    </tr>\n",
       "    <tr>\n",
       "      <th>3</th>\n",
       "      <td>&lt;PIL.JpegImagePlugin.JpegImageFile image mode=...</td>\n",
       "      <td>A baby is eating in a room of the house. She t...</td>\n",
       "      <td>A boy is eating pizza in a crib. He is holdin...</td>\n",
       "    </tr>\n",
       "    <tr>\n",
       "      <th>4</th>\n",
       "      <td>&lt;PIL.JpegImagePlugin.JpegImageFile image mode=...</td>\n",
       "      <td>A group of older men enjoy a meal at a wooden ...</td>\n",
       "      <td>A man is drinking a beer from a glass held in...</td>\n",
       "    </tr>\n",
       "    <tr>\n",
       "      <th>...</th>\n",
       "      <td>...</td>\n",
       "      <td>...</td>\n",
       "      <td>...</td>\n",
       "    </tr>\n",
       "    <tr>\n",
       "      <th>145</th>\n",
       "      <td>&lt;PIL.JpegImagePlugin.JpegImageFile image mode=...</td>\n",
       "      <td>She holds a camera near a large sink and count...</td>\n",
       "      <td>A kitchen sink is being washed by a person wh...</td>\n",
       "    </tr>\n",
       "    <tr>\n",
       "      <th>146</th>\n",
       "      <td>&lt;PIL.JpegImagePlugin.JpegImageFile image mode=...</td>\n",
       "      <td>A group of people travel down a street on moto...</td>\n",
       "      <td>A busy street scene is captured in a vivid, p...</td>\n",
       "    </tr>\n",
       "    <tr>\n",
       "      <th>147</th>\n",
       "      <td>&lt;PIL.JpegImagePlugin.JpegImageFile image mode=...</td>\n",
       "      <td>An umbrella sits on top of a sandy beach near ...</td>\n",
       "      <td>A person is standing on the beach, holding a ...</td>\n",
       "    </tr>\n",
       "    <tr>\n",
       "      <th>148</th>\n",
       "      <td>&lt;PIL.JpegImagePlugin.JpegImageFile image mode=...</td>\n",
       "      <td>A food worker in a blue apron holds a cell pho...</td>\n",
       "      <td>A blind person looks at the camera through a ...</td>\n",
       "    </tr>\n",
       "    <tr>\n",
       "      <th>149</th>\n",
       "      <td>&lt;PIL.JpegImagePlugin.JpegImageFile image mode=...</td>\n",
       "      <td>The children sit in the living room, a boy and...</td>\n",
       "      <td>Two blind people are playing a video game in ...</td>\n",
       "    </tr>\n",
       "  </tbody>\n",
       "</table>\n",
       "<p>150 rows × 3 columns</p>\n",
       "</div>"
      ],
      "text/plain": [
       "                                                 image  \\\n",
       "0    <PIL.JpegImagePlugin.JpegImageFile image mode=...   \n",
       "1    <PIL.JpegImagePlugin.JpegImageFile image mode=...   \n",
       "2    <PIL.JpegImagePlugin.JpegImageFile image mode=...   \n",
       "3    <PIL.JpegImagePlugin.JpegImageFile image mode=...   \n",
       "4    <PIL.JpegImagePlugin.JpegImageFile image mode=...   \n",
       "..                                                 ...   \n",
       "145  <PIL.JpegImagePlugin.JpegImageFile image mode=...   \n",
       "146  <PIL.JpegImagePlugin.JpegImageFile image mode=...   \n",
       "147  <PIL.JpegImagePlugin.JpegImageFile image mode=...   \n",
       "148  <PIL.JpegImagePlugin.JpegImageFile image mode=...   \n",
       "149  <PIL.JpegImagePlugin.JpegImageFile image mode=...   \n",
       "\n",
       "                                           description  \\\n",
       "0    A beautiful woman holding a tennis racquet sta...   \n",
       "1    A snowboarder stands in an ice-covered area, h...   \n",
       "2    A left hand holds an iced donut in a bag, its ...   \n",
       "3    A baby is eating in a room of the house. She t...   \n",
       "4    A group of older men enjoy a meal at a wooden ...   \n",
       "..                                                 ...   \n",
       "145  She holds a camera near a large sink and count...   \n",
       "146  A group of people travel down a street on moto...   \n",
       "147  An umbrella sits on top of a sandy beach near ...   \n",
       "148  A food worker in a blue apron holds a cell pho...   \n",
       "149  The children sit in the living room, a boy and...   \n",
       "\n",
       "                                          model_output  \n",
       "0     A woman is playing tennis on a court. She is ...  \n",
       "1     A person is standing on a snowy hill, wearing...  \n",
       "2     A person is holding a chocolate éclair in the...  \n",
       "3     A boy is eating pizza in a crib. He is holdin...  \n",
       "4     A man is drinking a beer from a glass held in...  \n",
       "..                                                 ...  \n",
       "145   A kitchen sink is being washed by a person wh...  \n",
       "146   A busy street scene is captured in a vivid, p...  \n",
       "147   A person is standing on the beach, holding a ...  \n",
       "148   A blind person looks at the camera through a ...  \n",
       "149   Two blind people are playing a video game in ...  \n",
       "\n",
       "[150 rows x 3 columns]"
      ]
     },
     "execution_count": 17,
     "metadata": {},
     "output_type": "execute_result"
    }
   ],
   "source": [
    "tuned_df"
   ]
  },
  {
   "cell_type": "code",
   "execution_count": 18,
   "id": "0f355959",
   "metadata": {},
   "outputs": [],
   "source": [
    "def compute_meteor_scores(df):\n",
    "    scores = []\n",
    "    for _, row in tqdm(df.iterrows(), total=len(df), desc=\"Computing METEOR scores\"):\n",
    "        ref = word_tokenize(row['description'])\n",
    "        cand = word_tokenize(row['model_output'])\n",
    "        scores.append(meteor_score([ref], cand))\n",
    "    return sum(scores) / len(scores)"
   ]
  },
  {
   "cell_type": "code",
   "execution_count": 19,
   "id": "97a9ba15",
   "metadata": {},
   "outputs": [
    {
     "name": "stderr",
     "output_type": "stream",
     "text": [
      "Computing METEOR scores:   0%|          | 0/150 [00:00<?, ?it/s]"
     ]
    },
    {
     "name": "stderr",
     "output_type": "stream",
     "text": [
      "Computing METEOR scores: 100%|██████████| 150/150 [00:00<00:00, 192.86it/s]\n",
      "Computing METEOR scores: 100%|██████████| 150/150 [00:00<00:00, 311.45it/s]\n"
     ]
    }
   ],
   "source": [
    "base_meteor = compute_meteor_scores(base_df)\n",
    "tuned_meteor = compute_meteor_scores(tuned_df)"
   ]
  },
  {
   "cell_type": "code",
   "execution_count": 20,
   "id": "2db88a53",
   "metadata": {},
   "outputs": [
    {
     "name": "stdout",
     "output_type": "stream",
     "text": [
      "Evaluation Results:\n",
      "Base Model METEOR Score: 0.2521\n",
      "Tuned Model METEOR Score: 0.2441\n"
     ]
    }
   ],
   "source": [
    "print(\"Evaluation Results:\")\n",
    "print(f\"Base Model METEOR Score: {base_meteor:.4f}\")\n",
    "print(f\"Tuned Model METEOR Score: {tuned_meteor:.4f}\")"
   ]
  },
  {
   "cell_type": "code",
   "execution_count": 24,
   "id": "e19d0074",
   "metadata": {},
   "outputs": [
    {
     "name": "stderr",
     "output_type": "stream",
     "text": [
      "/home/laksh.jain/laksh_3.11/lib/python3.11/site-packages/tqdm/auto.py:21: TqdmWarning: IProgress not found. Please update jupyter and ipywidgets. See https://ipywidgets.readthedocs.io/en/stable/user_install.html\n",
      "  from .autonotebook import tqdm as notebook_tqdm\n"
     ]
    }
   ],
   "source": [
    "from evaluate import load\n",
    "import evaluate"
   ]
  },
  {
   "cell_type": "code",
   "execution_count": 27,
   "id": "78eb1ebf",
   "metadata": {},
   "outputs": [],
   "source": [
    "def compute_rouge_scores(df):\n",
    "    rouge = evaluate.load('rouge')\n",
    "    candidates = df['model_output'].tolist()\n",
    "    references = df['description'].tolist()\n",
    "    results = rouge.compute(predictions=candidates, references=references)\n",
    "    return results"
   ]
  },
  {
   "cell_type": "code",
   "execution_count": 28,
   "id": "741422e1",
   "metadata": {},
   "outputs": [
    {
     "name": "stderr",
     "output_type": "stream",
     "text": [
      "Downloading builder script: 6.27kB [00:00, 7.69MB/s]\n"
     ]
    },
    {
     "ename": "ImportError",
     "evalue": "To be able to use evaluate-metric/rouge, you need to install the following dependencies['absl', 'rouge_score'] using 'pip install # Here to have a nice missing dependency error message early on rouge_score' for instance'",
     "output_type": "error",
     "traceback": [
      "\u001b[31m---------------------------------------------------------------------------\u001b[39m",
      "\u001b[31mImportError\u001b[39m                               Traceback (most recent call last)",
      "\u001b[36mCell\u001b[39m\u001b[36m \u001b[39m\u001b[32mIn[28]\u001b[39m\u001b[32m, line 1\u001b[39m\n\u001b[32m----> \u001b[39m\u001b[32m1\u001b[39m base_rouge = \u001b[43mcompute_rouge_scores\u001b[49m\u001b[43m(\u001b[49m\u001b[43mbase_df\u001b[49m\u001b[43m)\u001b[49m\n\u001b[32m      2\u001b[39m tuned_rouge = compute_rouge_scores(tuned_df)\n",
      "\u001b[36mCell\u001b[39m\u001b[36m \u001b[39m\u001b[32mIn[27]\u001b[39m\u001b[32m, line 2\u001b[39m, in \u001b[36mcompute_rouge_scores\u001b[39m\u001b[34m(df)\u001b[39m\n\u001b[32m      1\u001b[39m \u001b[38;5;28;01mdef\u001b[39;00m\u001b[38;5;250m \u001b[39m\u001b[34mcompute_rouge_scores\u001b[39m(df):\n\u001b[32m----> \u001b[39m\u001b[32m2\u001b[39m     rouge = \u001b[43mevaluate\u001b[49m\u001b[43m.\u001b[49m\u001b[43mload\u001b[49m\u001b[43m(\u001b[49m\u001b[33;43m'\u001b[39;49m\u001b[33;43mrouge\u001b[39;49m\u001b[33;43m'\u001b[39;49m\u001b[43m)\u001b[49m\n\u001b[32m      3\u001b[39m     candidates = df[\u001b[33m'\u001b[39m\u001b[33mmodel_output\u001b[39m\u001b[33m'\u001b[39m].tolist()\n\u001b[32m      4\u001b[39m     references = df[\u001b[33m'\u001b[39m\u001b[33mdescription\u001b[39m\u001b[33m'\u001b[39m].tolist()\n",
      "\u001b[36mFile \u001b[39m\u001b[32m~/laksh_3.11/lib/python3.11/site-packages/evaluate/loading.py:748\u001b[39m, in \u001b[36mload\u001b[39m\u001b[34m(path, config_name, module_type, process_id, num_process, cache_dir, experiment_id, keep_in_memory, download_config, download_mode, revision, **init_kwargs)\u001b[39m\n\u001b[32m    703\u001b[39m \u001b[38;5;250m\u001b[39m\u001b[33;03m\"\"\"Load a [`~evaluate.EvaluationModule`].\u001b[39;00m\n\u001b[32m    704\u001b[39m \n\u001b[32m    705\u001b[39m \u001b[33;03mArgs:\u001b[39;00m\n\u001b[32m   (...)\u001b[39m\u001b[32m    745\u001b[39m \u001b[33;03m    ```\u001b[39;00m\n\u001b[32m    746\u001b[39m \u001b[33;03m\"\"\"\u001b[39;00m\n\u001b[32m    747\u001b[39m download_mode = DownloadMode(download_mode \u001b[38;5;129;01mor\u001b[39;00m DownloadMode.REUSE_DATASET_IF_EXISTS)\n\u001b[32m--> \u001b[39m\u001b[32m748\u001b[39m evaluation_module = \u001b[43mevaluation_module_factory\u001b[49m\u001b[43m(\u001b[49m\n\u001b[32m    749\u001b[39m \u001b[43m    \u001b[49m\u001b[43mpath\u001b[49m\u001b[43m,\u001b[49m\u001b[43m \u001b[49m\u001b[43mmodule_type\u001b[49m\u001b[43m=\u001b[49m\u001b[43mmodule_type\u001b[49m\u001b[43m,\u001b[49m\u001b[43m \u001b[49m\u001b[43mrevision\u001b[49m\u001b[43m=\u001b[49m\u001b[43mrevision\u001b[49m\u001b[43m,\u001b[49m\u001b[43m \u001b[49m\u001b[43mdownload_config\u001b[49m\u001b[43m=\u001b[49m\u001b[43mdownload_config\u001b[49m\u001b[43m,\u001b[49m\u001b[43m \u001b[49m\u001b[43mdownload_mode\u001b[49m\u001b[43m=\u001b[49m\u001b[43mdownload_mode\u001b[49m\n\u001b[32m    750\u001b[39m \u001b[43m\u001b[49m\u001b[43m)\u001b[49m\n\u001b[32m    751\u001b[39m evaluation_cls = import_main_class(evaluation_module.module_path)\n\u001b[32m    752\u001b[39m evaluation_instance = evaluation_cls(\n\u001b[32m    753\u001b[39m     config_name=config_name,\n\u001b[32m    754\u001b[39m     process_id=process_id,\n\u001b[32m   (...)\u001b[39m\u001b[32m    760\u001b[39m     **init_kwargs,\n\u001b[32m    761\u001b[39m )\n",
      "\u001b[36mFile \u001b[39m\u001b[32m~/laksh_3.11/lib/python3.11/site-packages/evaluate/loading.py:680\u001b[39m, in \u001b[36mevaluation_module_factory\u001b[39m\u001b[34m(path, module_type, revision, download_config, download_mode, force_local_path, dynamic_modules_path, **download_kwargs)\u001b[39m\n\u001b[32m    678\u001b[39m                 \u001b[38;5;28;01mpass\u001b[39;00m\n\u001b[32m    679\u001b[39m         \u001b[38;5;28;01mif\u001b[39;00m \u001b[38;5;129;01mnot\u001b[39;00m \u001b[38;5;28misinstance\u001b[39m(e1, (\u001b[38;5;167;01mConnectionError\u001b[39;00m, \u001b[38;5;167;01mFileNotFoundError\u001b[39;00m)):\n\u001b[32m--> \u001b[39m\u001b[32m680\u001b[39m             \u001b[38;5;28;01mraise\u001b[39;00m e1 \u001b[38;5;28;01mfrom\u001b[39;00m\u001b[38;5;250m \u001b[39m\u001b[38;5;28;01mNone\u001b[39;00m\n\u001b[32m    681\u001b[39m         \u001b[38;5;28;01mraise\u001b[39;00m \u001b[38;5;167;01mFileNotFoundError\u001b[39;00m(\n\u001b[32m    682\u001b[39m             \u001b[33mf\u001b[39m\u001b[33m\"\u001b[39m\u001b[33mCouldn\u001b[39m\u001b[33m'\u001b[39m\u001b[33mt find a module script at \u001b[39m\u001b[38;5;132;01m{\u001b[39;00mrelative_to_absolute_path(combined_path)\u001b[38;5;132;01m}\u001b[39;00m\u001b[33m. \u001b[39m\u001b[33m\"\u001b[39m\n\u001b[32m    683\u001b[39m             \u001b[33mf\u001b[39m\u001b[33m\"\u001b[39m\u001b[33mModule \u001b[39m\u001b[33m'\u001b[39m\u001b[38;5;132;01m{\u001b[39;00mpath\u001b[38;5;132;01m}\u001b[39;00m\u001b[33m'\u001b[39m\u001b[33m doesn\u001b[39m\u001b[33m'\u001b[39m\u001b[33mt exist on the Hugging Face Hub either.\u001b[39m\u001b[33m\"\u001b[39m\n\u001b[32m    684\u001b[39m         ) \u001b[38;5;28;01mfrom\u001b[39;00m\u001b[38;5;250m \u001b[39m\u001b[38;5;28;01mNone\u001b[39;00m\n\u001b[32m    685\u001b[39m \u001b[38;5;28;01melse\u001b[39;00m:\n",
      "\u001b[36mFile \u001b[39m\u001b[32m~/laksh_3.11/lib/python3.11/site-packages/evaluate/loading.py:639\u001b[39m, in \u001b[36mevaluation_module_factory\u001b[39m\u001b[34m(path, module_type, revision, download_config, download_mode, force_local_path, dynamic_modules_path, **download_kwargs)\u001b[39m\n\u001b[32m    631\u001b[39m \u001b[38;5;28;01mfor\u001b[39;00m current_type \u001b[38;5;129;01min\u001b[39;00m [\u001b[33m\"\u001b[39m\u001b[33mmetric\u001b[39m\u001b[33m\"\u001b[39m, \u001b[33m\"\u001b[39m\u001b[33mcomparison\u001b[39m\u001b[33m\"\u001b[39m, \u001b[33m\"\u001b[39m\u001b[33mmeasurement\u001b[39m\u001b[33m\"\u001b[39m]:\n\u001b[32m    632\u001b[39m     \u001b[38;5;28;01mtry\u001b[39;00m:\n\u001b[32m    633\u001b[39m         \u001b[38;5;28;01mreturn\u001b[39;00m \u001b[43mHubEvaluationModuleFactory\u001b[49m\u001b[43m(\u001b[49m\n\u001b[32m    634\u001b[39m \u001b[43m            \u001b[49m\u001b[33;43mf\u001b[39;49m\u001b[33;43m\"\u001b[39;49m\u001b[33;43mevaluate-\u001b[39;49m\u001b[38;5;132;43;01m{\u001b[39;49;00m\u001b[43mcurrent_type\u001b[49m\u001b[38;5;132;43;01m}\u001b[39;49;00m\u001b[33;43m/\u001b[39;49m\u001b[38;5;132;43;01m{\u001b[39;49;00m\u001b[43mpath\u001b[49m\u001b[38;5;132;43;01m}\u001b[39;49;00m\u001b[33;43m\"\u001b[39;49m\u001b[43m,\u001b[49m\n\u001b[32m    635\u001b[39m \u001b[43m            \u001b[49m\u001b[43mrevision\u001b[49m\u001b[43m=\u001b[49m\u001b[43mrevision\u001b[49m\u001b[43m,\u001b[49m\n\u001b[32m    636\u001b[39m \u001b[43m            \u001b[49m\u001b[43mdownload_config\u001b[49m\u001b[43m=\u001b[49m\u001b[43mdownload_config\u001b[49m\u001b[43m,\u001b[49m\n\u001b[32m    637\u001b[39m \u001b[43m            \u001b[49m\u001b[43mdownload_mode\u001b[49m\u001b[43m=\u001b[49m\u001b[43mdownload_mode\u001b[49m\u001b[43m,\u001b[49m\n\u001b[32m    638\u001b[39m \u001b[43m            \u001b[49m\u001b[43mdynamic_modules_path\u001b[49m\u001b[43m=\u001b[49m\u001b[43mdynamic_modules_path\u001b[49m\u001b[43m,\u001b[49m\n\u001b[32m--> \u001b[39m\u001b[32m639\u001b[39m \u001b[43m        \u001b[49m\u001b[43m)\u001b[49m\u001b[43m.\u001b[49m\u001b[43mget_module\u001b[49m\u001b[43m(\u001b[49m\u001b[43m)\u001b[49m\n\u001b[32m    640\u001b[39m     \u001b[38;5;28;01mexcept\u001b[39;00m \u001b[38;5;167;01mConnectionError\u001b[39;00m:\n\u001b[32m    641\u001b[39m         \u001b[38;5;28;01mpass\u001b[39;00m\n",
      "\u001b[36mFile \u001b[39m\u001b[32m~/laksh_3.11/lib/python3.11/site-packages/evaluate/loading.py:489\u001b[39m, in \u001b[36mHubEvaluationModuleFactory.get_module\u001b[39m\u001b[34m(self)\u001b[39m\n\u001b[32m    486\u001b[39m         \u001b[38;5;28;01mraise\u001b[39;00m err\n\u001b[32m    488\u001b[39m imports = get_imports(local_path)\n\u001b[32m--> \u001b[39m\u001b[32m489\u001b[39m local_imports = \u001b[43m_download_additional_modules\u001b[49m\u001b[43m(\u001b[49m\n\u001b[32m    490\u001b[39m \u001b[43m    \u001b[49m\u001b[43mname\u001b[49m\u001b[43m=\u001b[49m\u001b[38;5;28;43mself\u001b[39;49m\u001b[43m.\u001b[49m\u001b[43mname\u001b[49m\u001b[43m,\u001b[49m\n\u001b[32m    491\u001b[39m \u001b[43m    \u001b[49m\u001b[43mbase_path\u001b[49m\u001b[43m=\u001b[49m\u001b[43mhf_hub_url\u001b[49m\u001b[43m(\u001b[49m\u001b[43mpath\u001b[49m\u001b[43m=\u001b[49m\u001b[38;5;28;43mself\u001b[39;49m\u001b[43m.\u001b[49m\u001b[43mname\u001b[49m\u001b[43m,\u001b[49m\u001b[43m \u001b[49m\u001b[43mname\u001b[49m\u001b[43m=\u001b[49m\u001b[33;43m\"\u001b[39;49m\u001b[33;43m\"\u001b[39;49m\u001b[43m,\u001b[49m\u001b[43m \u001b[49m\u001b[43mrevision\u001b[49m\u001b[43m=\u001b[49m\u001b[43mrevision\u001b[49m\u001b[43m)\u001b[49m\u001b[43m,\u001b[49m\n\u001b[32m    492\u001b[39m \u001b[43m    \u001b[49m\u001b[43mimports\u001b[49m\u001b[43m=\u001b[49m\u001b[43mimports\u001b[49m\u001b[43m,\u001b[49m\n\u001b[32m    493\u001b[39m \u001b[43m    \u001b[49m\u001b[43mdownload_config\u001b[49m\u001b[43m=\u001b[49m\u001b[38;5;28;43mself\u001b[39;49m\u001b[43m.\u001b[49m\u001b[43mdownload_config\u001b[49m\u001b[43m,\u001b[49m\n\u001b[32m    494\u001b[39m \u001b[43m\u001b[49m\u001b[43m)\u001b[49m\n\u001b[32m    495\u001b[39m \u001b[38;5;66;03m# copy the script and the files in an importable directory\u001b[39;00m\n\u001b[32m    496\u001b[39m dynamic_modules_path = \u001b[38;5;28mself\u001b[39m.dynamic_modules_path \u001b[38;5;28;01mif\u001b[39;00m \u001b[38;5;28mself\u001b[39m.dynamic_modules_path \u001b[38;5;28;01melse\u001b[39;00m init_dynamic_modules()\n",
      "\u001b[36mFile \u001b[39m\u001b[32m~/laksh_3.11/lib/python3.11/site-packages/evaluate/loading.py:265\u001b[39m, in \u001b[36m_download_additional_modules\u001b[39m\u001b[34m(name, base_path, imports, download_config)\u001b[39m\n\u001b[32m    263\u001b[39m         needs_to_be_installed.add((library_import_name, library_import_path))\n\u001b[32m    264\u001b[39m \u001b[38;5;28;01mif\u001b[39;00m needs_to_be_installed:\n\u001b[32m--> \u001b[39m\u001b[32m265\u001b[39m     \u001b[38;5;28;01mraise\u001b[39;00m \u001b[38;5;167;01mImportError\u001b[39;00m(\n\u001b[32m    266\u001b[39m         \u001b[33mf\u001b[39m\u001b[33m\"\u001b[39m\u001b[33mTo be able to use \u001b[39m\u001b[38;5;132;01m{\u001b[39;00mname\u001b[38;5;132;01m}\u001b[39;00m\u001b[33m, you need to install the following dependencies\u001b[39m\u001b[33m\"\u001b[39m\n\u001b[32m    267\u001b[39m         \u001b[33mf\u001b[39m\u001b[33m\"\u001b[39m\u001b[38;5;132;01m{\u001b[39;00m[lib_name\u001b[38;5;250m \u001b[39m\u001b[38;5;28;01mfor\u001b[39;00m\u001b[38;5;250m \u001b[39mlib_name,\u001b[38;5;250m \u001b[39mlib_path\u001b[38;5;250m \u001b[39m\u001b[38;5;129;01min\u001b[39;00m\u001b[38;5;250m \u001b[39mneeds_to_be_installed]\u001b[38;5;132;01m}\u001b[39;00m\u001b[33m using \u001b[39m\u001b[33m'\u001b[39m\u001b[33mpip install \u001b[39m\u001b[33m\"\u001b[39m\n\u001b[32m    268\u001b[39m         \u001b[33mf\u001b[39m\u001b[33m\"\u001b[39m\u001b[38;5;132;01m{\u001b[39;00m\u001b[33m'\u001b[39m\u001b[33m \u001b[39m\u001b[33m'\u001b[39m.join([lib_path\u001b[38;5;250m \u001b[39m\u001b[38;5;28;01mfor\u001b[39;00m\u001b[38;5;250m \u001b[39mlib_name,\u001b[38;5;250m \u001b[39mlib_path\u001b[38;5;250m \u001b[39m\u001b[38;5;129;01min\u001b[39;00m\u001b[38;5;250m \u001b[39mneeds_to_be_installed])\u001b[38;5;132;01m}\u001b[39;00m\u001b[33m'\u001b[39m\u001b[33m for instance\u001b[39m\u001b[33m'\u001b[39m\u001b[33m\"\u001b[39m\n\u001b[32m    269\u001b[39m     )\n\u001b[32m    270\u001b[39m \u001b[38;5;28;01mreturn\u001b[39;00m local_imports\n",
      "\u001b[31mImportError\u001b[39m: To be able to use evaluate-metric/rouge, you need to install the following dependencies['absl', 'rouge_score'] using 'pip install # Here to have a nice missing dependency error message early on rouge_score' for instance'"
     ]
    }
   ],
   "source": [
    "base_rouge = compute_rouge_scores(base_df)\n",
    "tuned_rouge = compute_rouge_scores(tuned_df)"
   ]
  },
  {
   "cell_type": "code",
   "execution_count": null,
   "id": "0e813855",
   "metadata": {},
   "outputs": [],
   "source": [
    "print(\"ROUGE SCORES\")\n",
    "print(f\"Base Model ROUGE-1: {base_rouge['rouge1']:.4f}\")\n",
    "print(f\"Tuned Model ROUGE-1: {tuned_rouge['rouge1']:.4f}\")\n",
    "\n",
    "print(f\"Base Model ROUGE-2: {base_rouge['rouge2']:.4f}\")\n",
    "print(f\"Tuned Model ROUGE-2: {tuned_rouge['rouge2']:.4f}\")\n",
    "\n",
    "print(f\"Base Model ROUGE-L: {base_rouge['rougeL']:.4f}\")\n",
    "print(f\"Tuned Model ROUGE-L: {tuned_rouge['rougeL']:.4f}\")\n",
    "\n",
    "print(f\"Base Model ROUGE-Lsum: {base_rouge['rougeLsum']:.4f}\")\n",
    "print(f\"Tuned Model ROUGE-Lsum: {tuned_rouge['rougeLsum']:.4f}\")\n"
   ]
  }
 ],
 "metadata": {
  "kernelspec": {
   "display_name": "laksh_3.11",
   "language": "python",
   "name": "python3"
  },
  "language_info": {
   "codemirror_mode": {
    "name": "ipython",
    "version": 3
   },
   "file_extension": ".py",
   "mimetype": "text/x-python",
   "name": "python",
   "nbconvert_exporter": "python",
   "pygments_lexer": "ipython3",
   "version": "3.11.7"
  }
 },
 "nbformat": 4,
 "nbformat_minor": 5
}
